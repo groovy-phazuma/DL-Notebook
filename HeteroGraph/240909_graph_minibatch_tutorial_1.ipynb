{
 "cells": [
  {
   "cell_type": "markdown",
   "metadata": {},
   "source": [
    "#### Graph minibatch learning tutorial 1\n",
    "References\n",
    "- https://docs.dgl.ai/en/0.8.x/guide/minibatch-node.html#guide-minibatch-node-classification-sampler\n"
   ]
  },
  {
   "cell_type": "code",
   "execution_count": 10,
   "metadata": {},
   "outputs": [
    {
     "name": "stdout",
     "output_type": "stream",
     "text": [
      "CUDA available: True\n",
      "Device name: NVIDIA GeForce RTX 4090\n"
     ]
    }
   ],
   "source": [
    "import numpy as np\n",
    "\n",
    "from tqdm import tqdm\n",
    "\n",
    "import dgl\n",
    "import dgl.nn as dglnn\n",
    "import torch\n",
    "import torch.nn as nn\n",
    "import torch.nn.functional as F\n",
    "\n",
    "# GPUが利用可能かどうかを確認\n",
    "print(\"CUDA available:\", torch.cuda.is_available())\n",
    "print(\"Device name:\", torch.cuda.get_device_name(torch.cuda.current_device()))\n"
   ]
  },
  {
   "cell_type": "markdown",
   "metadata": {},
   "source": [
    "***\n",
    "##### データの準備"
   ]
  },
  {
   "cell_type": "code",
   "execution_count": 2,
   "metadata": {},
   "outputs": [
    {
     "name": "stdout",
     "output_type": "stream",
     "text": [
      "  NumNodes: 3327\n",
      "  NumEdges: 9228\n",
      "  NumFeats: 3703\n",
      "  NumClasses: 6\n",
      "  NumTrainingSamples: 120\n",
      "  NumValidationSamples: 500\n",
      "  NumTestSamples: 1000\n",
      "Done loading data from cached files.\n"
     ]
    },
    {
     "name": "stderr",
     "output_type": "stream",
     "text": [
      "/root/.pyenv/versions/3.10.9/lib/python3.10/site-packages/dgl/dataloading/dataloader.py:1144: DGLWarning: Dataloader CPU affinity opt is not enabled, consider switching it on (see enable_cpu_affinity() or CPU best practices for DGL [https://docs.dgl.ai/tutorials/cpu/cpu_best_practises.html])\n",
      "  dgl_warning(\n"
     ]
    }
   ],
   "source": [
    "\n",
    "# load graph information\n",
    "dataset = dgl.data.CiteseerGraphDataset()\n",
    "g = dataset[0]\n",
    "\n",
    "num_nodes = g.num_nodes()\n",
    "\n",
    "# split train, validation, test\n",
    "train_ratio = 0.8\n",
    "val_ratio = 0.1\n",
    "\n",
    "nids = np.arange(num_nodes)\n",
    "np.random.shuffle(nids)\n",
    "\n",
    "train_size = int(num_nodes * train_ratio)\n",
    "val_size = int(num_nodes * val_ratio)\n",
    "\n",
    "train_nids = torch.tensor(nids[:train_size])\n",
    "val_nids = torch.tensor(nids[train_size:train_size+val_size])\n",
    "test_nids = torch.tensor(nids[train_size+val_size:])\n",
    "\n",
    "# data loader\n",
    "sampler = dgl.dataloading.MultiLayerFullNeighborSampler(2)\n",
    "dataloader = dgl.dataloading.DataLoader(\n",
    "    g, train_nids, sampler,\n",
    "    batch_size=128,\n",
    "    shuffle=True,\n",
    "    drop_last=False,\n",
    "    num_workers=0)  # num_workers=1 couldnt work   \n",
    "input_nodes, output_nodes, blocks = next(iter(dataloader))"
   ]
  },
  {
   "cell_type": "code",
   "execution_count": 3,
   "metadata": {},
   "outputs": [
    {
     "name": "stdout",
     "output_type": "stream",
     "text": [
      "tensor([2703, 3302, 2172,  ..., 2553, 1846, 1491])\n",
      "tensor([2703, 3302, 2172, 2769, 1190,  595, 2879, 1878, 1944, 1710,  535, 1054,\n",
      "         489, 1873,  829, 1115, 2950, 2695, 3147, 3171,  798,  750, 3245, 1754,\n",
      "        1318, 1079, 1670, 1001, 2199, 2825, 2449,    9, 1788, 2317,  567, 2609,\n",
      "          44, 3294,  314,  850,  927,  471, 1114, 3255, 3241, 1886, 1586,  968,\n",
      "        2577, 2248, 2139,   73, 3041, 2909, 1622, 2901,  323, 1736, 3163,  980,\n",
      "        1509,  317, 1387,  933, 1932, 1219, 1798, 2576, 1412, 3275, 2137,  251,\n",
      "        2090, 2727, 3289,  788, 2112,   53, 3084,   24, 2962, 2124,  886, 3020,\n",
      "        1040,   97, 3178, 1590, 2927, 2003, 3301, 2619,  565, 2511,  477,  139,\n",
      "        2113,  356,  201,   86,  598,  320, 1373, 3161,  324,  561, 3154, 1829,\n",
      "         354, 2650,  768,  907, 1113, 2189,  410, 1725, 2069,    0,  465, 2121,\n",
      "        2363,  560, 2846, 1580, 2322,   94, 2138, 3320])\n",
      "[Block(num_src_nodes=1122, num_dst_nodes=453, num_edges=2269), Block(num_src_nodes=453, num_dst_nodes=128, num_edges=374)]\n"
     ]
    }
   ],
   "source": [
    "print(input_nodes)\n",
    "print(output_nodes)\n",
    "print(blocks)"
   ]
  },
  {
   "cell_type": "markdown",
   "metadata": {},
   "source": [
    "出力の解釈:\n",
    "- Block(num_src_nodes=1048, num_dst_nodes=419, num_edges=2025): このブロックは、1048個のソースノード（入力ノード）、419個の宛先ノード（出力ノード）、および2025個のエッジを含みます。\n",
    "- Block(num_src_nodes=419, num_dst_nodes=128, num_edges=327): このブロックは、419個のソースノード、128個の宛先ノード、327個のエッジを含みます。"
   ]
  },
  {
   "cell_type": "markdown",
   "metadata": {},
   "source": [
    "***\n",
    "##### "
   ]
  },
  {
   "cell_type": "code",
   "execution_count": 4,
   "metadata": {},
   "outputs": [],
   "source": [
    "class StochasticTwoLayerGCN(nn.Module):\n",
    "    def __init__(self, in_features, hidden_features, out_features):\n",
    "        super().__init__()\n",
    "        self.conv1 = dgl.nn.GraphConv(in_features, hidden_features)\n",
    "        self.conv2 = dgl.nn.GraphConv(hidden_features, out_features)\n",
    "\n",
    "    def forward(self, blocks, x):\n",
    "        x = F.relu(self.conv1(blocks[0], x))\n",
    "        x = F.relu(self.conv2(blocks[1], x))\n",
    "        return x"
   ]
  },
  {
   "cell_type": "code",
   "execution_count": 5,
   "metadata": {},
   "outputs": [
    {
     "name": "stdout",
     "output_type": "stream",
     "text": [
      "torch.Size([1122, 3703])\n",
      "tensor([1, 3, 1,  ..., 0, 0, 5])\n"
     ]
    }
   ],
   "source": [
    "# node features\n",
    "print(blocks[0].srcdata['feat'].shape)\n",
    "print(blocks[0].srcdata['label'])"
   ]
  },
  {
   "cell_type": "code",
   "execution_count": 6,
   "metadata": {},
   "outputs": [
    {
     "name": "stderr",
     "output_type": "stream",
     "text": [
      "  0%|          | 0/50 [00:00<?, ?it/s]/root/.pyenv/versions/3.10.9/lib/python3.10/site-packages/dgl/dataloading/dataloader.py:1144: DGLWarning: Dataloader CPU affinity opt is not enabled, consider switching it on (see enable_cpu_affinity() or CPU best practices for DGL [https://docs.dgl.ai/tutorials/cpu/cpu_best_practises.html])\n",
      "  dgl_warning(\n",
      "100%|██████████| 50/50 [02:44<00:00,  3.30s/it]\n"
     ]
    }
   ],
   "source": [
    "# loss for multi-class classification\n",
    "def compute_loss(labels, logits):\n",
    "    return F.cross_entropy(logits, labels)\n",
    "\n",
    "model = StochasticTwoLayerGCN(in_features=3703, hidden_features=128, out_features=6)\n",
    "model = model.cuda()\n",
    "opt = torch.optim.Adam(model.parameters())\n",
    "\n",
    "# training loop\n",
    "loss_log = []\n",
    "for i in tqdm(range(50)):\n",
    "    for input_nodes, output_nodes, blocks in dataloader:\n",
    "        blocks = [b.to(torch.device('cuda')) for b in blocks]\n",
    "        input_features = blocks[0].srcdata['feat']\n",
    "        output_labels = blocks[-1].dstdata['label']\n",
    "        output_predictions = model(blocks, input_features)\n",
    "        loss = compute_loss(output_labels, output_predictions)\n",
    "        opt.zero_grad()\n",
    "        loss.backward()\n",
    "        loss_log.append(loss.item())\n",
    "        opt.step()"
   ]
  },
  {
   "cell_type": "code",
   "execution_count": 12,
   "metadata": {},
   "outputs": [
    {
     "data": {
      "image/png": "[encoded data removed]",
      "text/plain": [
       "<Figure size 640x480 with 1 Axes>"
      ]
     },
     "metadata": {},
     "output_type": "display_data"
    }
   ],
   "source": [
    "import matplotlib.pyplot as plt\n",
    "\n",
    "plt.plot(loss_log)\n",
    "plt.xlabel('Iteration')\n",
    "plt.ylabel('Loss')\n",
    "plt.title('Training loss history')\n",
    "plt.grid()\n",
    "plt.show()"
   ]
  },
  {
   "cell_type": "code",
   "execution_count": null,
   "metadata": {},
   "outputs": [],
   "source": []
  }
 ],
 "metadata": {
  "kernelspec": {
   "display_name": "Python 3",
   "language": "python",
   "name": "python3"
  },
  "language_info": {
   "codemirror_mode": {
    "name": "ipython",
    "version": 3
   },
   "file_extension": ".py",
   "mimetype": "text/x-python",
   "name": "python",
   "nbconvert_exporter": "python",
   "pygments_lexer": "ipython3",
   "version": "3.10.9"
  }
 },
 "nbformat": 4,
 "nbformat_minor": 2
}
